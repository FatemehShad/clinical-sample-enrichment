{
 "cells": [
  {
   "cell_type": "code",
   "execution_count": null,
   "id": "c3aec15c-b6ba-4135-901d-1d397676212c",
   "metadata": {},
   "outputs": [],
   "source": [
    "import pandas as pd\n",
    "import matplotlib.pyplot as plt\n",
    "import networkx as nx\n",
    "from neo4j import GraphDatabase\n",
    "import json\n",
    "from py2neo import Graph\n",
    "import random\n"
   ]
  },
  {
   "cell_type": "code",
   "execution_count": null,
   "id": "beb28e4f-1e32-4155-b006-57c87dbe5bec",
   "metadata": {},
   "outputs": [],
   "source": [
    "bio_df = pd.read_excel('data/expression_data.xlsx', engine='openpyxl')\n",
    "\n",
    "print(bio_df.head())\n"
   ]
  },
  {
   "cell_type": "code",
   "execution_count": null,
   "id": "ab9c0573-19bc-4121-9574-f05936a01249",
   "metadata": {},
   "outputs": [],
   "source": [
    "bio_df = bio_df.drop(bio_df.columns[0], axis=1)\n",
    "proteins = bio_df.columns.tolist()\n"
   ]
  },
  {
   "cell_type": "code",
   "execution_count": null,
   "id": "e16d8aaf-bf57-439f-b0de-1020a050aa0b",
   "metadata": {},
   "outputs": [],
   "source": [
    "uniprot_to_reactome = pd.read_csv('data/MMU_Uniprot2Reactome.txt', sep='\\t')\n",
    "\n",
    "existing_proteins = uniprot_to_reactome[uniprot_to_reactome['V1'].isin(proteins)]['V1'].unique()\n",
    "\n",
    "existing_proteins_list = existing_proteins.tolist()\n",
    "len(existing_proteins_list)"
   ]
  },
  {
   "cell_type": "code",
   "execution_count": null,
   "id": "e205de3f-d095-48a6-bd01-9dfe196958ae",
   "metadata": {},
   "outputs": [],
   "source": [
    "existing_proteins_list\n"
   ]
  },
  {
   "cell_type": "code",
   "execution_count": null,
   "id": "d4091525-d2c7-46bd-bf98-48b69dc3d715",
   "metadata": {},
   "outputs": [],
   "source": [
    "\n",
    "\n",
    "\n",
    "graph = Graph(\"bolt://localhost:7688\", auth=(\"neo4j\", \"123456789\"))\n",
    "\n",
    "\n",
    "query = \"\"\"\n",
    "WITH \"MATCH (r:Reaction)-[rel]-(connectedNodes)\n",
    "WHERE r.schemaClass = 'Reaction' AND r.speciesName = 'Mus musculus'\n",
    "RETURN connectedNodes,rel\" AS query\n",
    "CALL apoc.export.graphml.query(query, \"mouse_python.graphml\", {format:\"gephi\", useTypes:true, readLabels:True})\n",
    "YIELD file, source, format, nodes, relationships, properties, time, rows, batchSize, batches, done, data\n",
    "RETURN file, source, format, nodes, relationships, properties, time, rows, batchSize, batches, done, data;\n",
    "\n",
    "\"\"\"\n",
    "graph.run(query).data()\n",
    "\n",
    "\n"
   ]
  },
  {
   "cell_type": "code",
   "execution_count": null,
   "id": "3c2564a6-ee3f-4b1e-ac14-316bbf145f0c",
   "metadata": {},
   "outputs": [],
   "source": []
  },
  {
   "cell_type": "code",
   "execution_count": null,
   "id": "9e743370-b653-4614-b0b4-e22b25377b15",
   "metadata": {},
   "outputs": [],
   "source": [
    "\n",
    "def fetch_subgraphs(driver, protein_names):\n",
    "    with driver.session() as session:\n",
    "        result = session.run(\"\"\"\n",
    "        UNWIND $proteinNames AS proteinName\n",
    "        MATCH (p)-[rel]-(connectedNodes)\n",
    "        WHERE ('EntityWithAccessionedSequence' IN labels(p) OR 'GenomeEncodedEntity' IN labels(p)) AND connectedNodes.speciesName = 'Mus musculus' AND ANY(name IN p.name WHERE name = proteinName)\n",
    "        RETURN p AS protein, collect(rel) AS relationships, collect(connectedNodes) AS nodes\n",
    "        \"\"\", proteinNames=protein_names)\n",
    "        return list(result)\n",
    "\n",
    "def create_subgraph(record):\n",
    "    subgraph = nx.MultiGraph()\n",
    "    protein_node = record['protein']\n",
    "    relationships = record['relationships']\n",
    "    connected_nodes = record['nodes']\n",
    "    \n",
    "    # Add the protein node with its properties\n",
    "    subgraph.add_node(protein_node.id, **protein_node._properties)\n",
    "    \n",
    "    # Add connected nodes and relationships\n",
    "    for rel, node in zip(relationships, connected_nodes):\n",
    "        subgraph.add_node(node.id, **node._properties)\n",
    "        subgraph.add_edge(protein_node.id, node.id, **rel._properties)\n",
    "    \n",
    "    return subgraph\n",
    "\n",
    "def combine_subgraphs(results):\n",
    "\n",
    "    subgraphs = [create_subgraph(record) for record in results]\n",
    "    \n",
    "\n",
    "    aggregated_graph = nx.compose_all(subgraphs)\n",
    "    \n",
    "    return aggregated_graph\n",
    "\n",
    "def convert_attributes_to_strings(G):\n",
    "    for node, data in G.nodes(data=True):\n",
    "        for key, value in data.items():\n",
    "            if isinstance(value, (list, dict)):  \n",
    "                G.nodes[node][key] = json.dumps(value)\n",
    "    \n",
    "    for u, v, data in G.edges(data=True):\n",
    "        for key, value in data.items():\n",
    "            if isinstance(value, (list, dict)): \n",
    "                G.edges[u, v][key] = json.dumps(value)\n",
    "\n",
    "\n",
    "driver = GraphDatabase.driver(\"bolt://localhost:7688\", auth=(\"neo4j\", \"123456789\"))\n",
    "\n",
    "\n",
    "subgraphs = fetch_subgraphs(driver, existing_proteins_list[:400])\n",
    "aggregated_graph = combine_subgraphs(subgraphs)\n",
    "convert_attributes_to_strings(aggregated_graph)\n",
    "nx.write_graphml(aggregated_graph, \"aggregated_proteins_v2.graphml\")\n",
    "\n",
    "driver.close()\n"
   ]
  },
  {
   "cell_type": "code",
   "execution_count": null,
   "id": "df513850-fe23-4a05-bfca-524d4e91f620",
   "metadata": {},
   "outputs": [],
   "source": [
    "G = nx.read_graphml(\"aggregated_proteins_v2.graphml\")\n",
    "\n",
    "num_nodes = G.number_of_nodes()\n",
    "num_edges = G.number_of_edges()\n",
    "\n",
    "print(f\"Number of nodes: {num_nodes}\")\n",
    "print(f\"Number of edges: {num_edges}\")\n"
   ]
  },
  {
   "cell_type": "code",
   "execution_count": null,
   "id": "6fc0d485-f1a1-4caf-add8-a2b30beb4264",
   "metadata": {},
   "outputs": [],
   "source": [
    "def find_nodes_at_distance(G, node, distance):\n",
    "    \"\"\"\n",
    "    Find all unique nodes that are exactly 'distance' steps away from the given 'node'.\n",
    "    Uses a BFS approach to avoid revisiting nodes.\n",
    "    \"\"\"\n",
    "    if distance == 0:\n",
    "        return [node]\n",
    "    visited = {node}\n",
    "    current_level = [node]\n",
    "    for _ in range(distance):\n",
    "        next_level = []\n",
    "        for current_node in current_level:\n",
    "            for neighbor in G.neighbors(current_node):\n",
    "                if neighbor not in visited:\n",
    "                    visited.add(neighbor)\n",
    "                    next_level.append(neighbor)\n",
    "        current_level = next_level\n",
    "    return current_level\n",
    "\n",
    "\n",
    "\n",
    "def random_walk_sampling(G, sample_size, distance):\n",
    "    current_node = random.choice(list(G.nodes))\n",
    "    sampled_nodes = [current_node]\n",
    "    attempts = 0\n",
    "    max_attempts = 1  # Adjust as necessary\n",
    "\n",
    "    while len(sampled_nodes) < sample_size and attempts < max_attempts:\n",
    "        potential_next_nodes = find_nodes_at_distance(G, current_node, distance)\n",
    "        potential_next_nodes = [node for node in potential_next_nodes if node not in sampled_nodes]\n",
    "        if not potential_next_nodes:\n",
    "            attempts += 1\n",
    "            print(f\"Attempt {attempts}: No new nodes at distance {distance} from node {current_node}.\")\n",
    "            if attempts >= max_attempts:\n",
    "                print(\"Maximum attempts reached. Sampling may be less than requested.\")\n",
    "            continue\n",
    "        current_node = random.choice(potential_next_nodes)\n",
    "        sampled_nodes.append(current_node)\n",
    "        attempts = 0  # Reset attempts after a successful step\n",
    "\n",
    "    return sampled_nodes\n",
    "\n"
   ]
  },
  {
   "cell_type": "code",
   "execution_count": null,
   "id": "29ebd65a-d123-4453-b13c-19f97560606a",
   "metadata": {},
   "outputs": [],
   "source": [
    "\n",
    "sample_size = 200\n",
    "sampled_nodes = random_walk_sampling(G, sample_size, distance=2)\n",
    "print(\"Sampled Nodes:\", sampled_nodes)"
   ]
  },
  {
   "cell_type": "code",
   "execution_count": null,
   "id": "d0f0471d-f274-42ef-85e0-eb1cb56d0237",
   "metadata": {},
   "outputs": [],
   "source": []
  },
  {
   "cell_type": "markdown",
   "id": "118d3d55-2ec6-4686-97f5-07f3da590826",
   "metadata": {},
   "source": [
    "# Stellargraph"
   ]
  },
  {
   "cell_type": "code",
   "execution_count": 2,
   "id": "9de9c6fb-71f8-447b-8c74-a624cc1e47fd",
   "metadata": {},
   "outputs": [
    {
     "ename": "NameError",
     "evalue": "name 'g' is not defined",
     "output_type": "error",
     "traceback": [
      "\u001b[0;31m---------------------------------------------------------------------------\u001b[0m",
      "\u001b[0;31mNameError\u001b[0m                                 Traceback (most recent call last)",
      "\u001b[0;32m<ipython-input-2-4428992ebe23>\u001b[0m in \u001b[0;36m<module>\u001b[0;34m\u001b[0m\n\u001b[1;32m      1\u001b[0m \u001b[0;31m# Print information about the graph (optional)\u001b[0m\u001b[0;34m\u001b[0m\u001b[0;34m\u001b[0m\u001b[0;34m\u001b[0m\u001b[0m\n\u001b[0;32m----> 2\u001b[0;31m \u001b[0mprint\u001b[0m\u001b[0;34m(\u001b[0m\u001b[0;34mf\"Loaded graph with {g.vcount()} nodes and {g.ecount()} edges.\"\u001b[0m\u001b[0;34m)\u001b[0m\u001b[0;34m\u001b[0m\u001b[0;34m\u001b[0m\u001b[0m\n\u001b[0m\u001b[1;32m      3\u001b[0m \u001b[0;34m\u001b[0m\u001b[0m\n\u001b[1;32m      4\u001b[0m \u001b[0mg\u001b[0m\u001b[0;34m.\u001b[0m\u001b[0mvs\u001b[0m\u001b[0;34m.\u001b[0m\u001b[0mattribute_names\u001b[0m\u001b[0;34m(\u001b[0m\u001b[0;34m)\u001b[0m\u001b[0;34m\u001b[0m\u001b[0;34m\u001b[0m\u001b[0m\n\u001b[1;32m      5\u001b[0m \u001b[0mnode_types\u001b[0m \u001b[0;34m=\u001b[0m \u001b[0mg\u001b[0m\u001b[0;34m.\u001b[0m\u001b[0mvs\u001b[0m\u001b[0;34m[\u001b[0m\u001b[0;34m'schemaClass'\u001b[0m\u001b[0;34m]\u001b[0m\u001b[0;34m\u001b[0m\u001b[0;34m\u001b[0m\u001b[0m\n",
      "\u001b[0;31mNameError\u001b[0m: name 'g' is not defined"
     ]
    }
   ],
   "source": [
    "# Print information about the graph (optional)\n",
    "print(f\"Loaded graph with {g.vcount()} nodes and {g.ecount()} edges.\")\n",
    "\n",
    "g.vs.attribute_names()\n",
    "node_types = g.vs['schemaClass']\n",
    "unique_node_types = set(node_types)\n",
    "print(\"Unique Node Types:\", unique_node_types)"
   ]
  },
  {
   "cell_type": "code",
   "execution_count": 3,
   "id": "c68162a0-31e0-483c-9ce5-b37960cc7e6c",
   "metadata": {},
   "outputs": [],
   "source": [
    "from stellargraph.mapper import (\n",
    "    CorruptedGenerator,\n",
    "    FullBatchNodeGenerator,\n",
    "    GraphSAGENodeGenerator,\n",
    "    HinSAGENodeGenerator,\n",
    "    ClusterNodeGenerator,\n",
    ")\n",
    "from stellargraph import StellarGraph\n",
    "from stellargraph.layer import GCN, DeepGraphInfomax, GraphSAGE, GAT, APPNP, HinSAGE"
   ]
  },
  {
   "cell_type": "code",
   "execution_count": 4,
   "id": "895b0cb5-51e0-431c-8870-1a2f9861d61c",
   "metadata": {},
   "outputs": [
    {
     "data": {
      "text/plain": [
       "'StellarGraph: Undirected multigraph\\n Nodes: 2649, Edges: 2159\\n\\n Node types:\\n  default: [2649]\\n    Features: none\\n    Edge types: default-default->default\\n\\n Edge types:\\n    default-default->default: [2159]\\n        Weights: all 1 (default)\\n        Features: none'"
      ]
     },
     "execution_count": 4,
     "metadata": {},
     "output_type": "execute_result"
    }
   ],
   "source": [
    "import networkx as nx\n",
    "from stellargraph import StellarGraph\n",
    "\n",
    "# Load the graph from a GraphML file\n",
    "nx_graph = nx.read_gml('agg.gml')\n",
    "\n",
    "# Convert the NetworkX graph to a StellarGraph object.\n",
    "stellargraph = StellarGraph.from_networkx(nx_graph)\n",
    "stellargraph.info()"
   ]
  },
  {
   "cell_type": "code",
   "execution_count": 5,
   "id": "d0cc8dc5-891a-49c1-b114-14750be0fb52",
   "metadata": {},
   "outputs": [
    {
     "ename": "RuntimeError",
     "evalue": "This StellarGraph has no numeric feature attributes for nodesNode features are required for machine learning",
     "output_type": "error",
     "traceback": [
      "\u001b[0;31m---------------------------------------------------------------------------\u001b[0m",
      "\u001b[0;31mRuntimeError\u001b[0m                              Traceback (most recent call last)",
      "\u001b[0;32m<ipython-input-5-38efbad54e8e>\u001b[0m in \u001b[0;36m<module>\u001b[0;34m\u001b[0m\n\u001b[1;32m      1\u001b[0m hinsage_generator = HinSAGENodeGenerator(\n\u001b[0;32m----> 2\u001b[0;31m     \u001b[0mstellargraph\u001b[0m\u001b[0;34m,\u001b[0m \u001b[0mbatch_size\u001b[0m\u001b[0;34m=\u001b[0m\u001b[0;36m1000\u001b[0m\u001b[0;34m,\u001b[0m \u001b[0mnum_samples\u001b[0m\u001b[0;34m=\u001b[0m\u001b[0;34m[\u001b[0m\u001b[0;36m5\u001b[0m\u001b[0;34m]\u001b[0m\u001b[0;34m\u001b[0m\u001b[0;34m\u001b[0m\u001b[0m\n\u001b[0m\u001b[1;32m      3\u001b[0m )\n\u001b[1;32m      4\u001b[0m \u001b[0;34m\u001b[0m\u001b[0m\n\u001b[1;32m      5\u001b[0m hinsage_model = HinSAGE(\n",
      "\u001b[0;32m~/anaconda3/envs/clustergcn/lib/python3.6/site-packages/stellargraph/mapper/sampled_node_generators.py\u001b[0m in \u001b[0;36m__init__\u001b[0;34m(self, G, batch_size, num_samples, head_node_type, schema, seed, name)\u001b[0m\n\u001b[1;32m    486\u001b[0m         \u001b[0mname\u001b[0m\u001b[0;34m=\u001b[0m\u001b[0;32mNone\u001b[0m\u001b[0;34m,\u001b[0m\u001b[0;34m\u001b[0m\u001b[0;34m\u001b[0m\u001b[0m\n\u001b[1;32m    487\u001b[0m     ):\n\u001b[0;32m--> 488\u001b[0;31m         \u001b[0msuper\u001b[0m\u001b[0;34m(\u001b[0m\u001b[0;34m)\u001b[0m\u001b[0;34m.\u001b[0m\u001b[0m__init__\u001b[0m\u001b[0;34m(\u001b[0m\u001b[0mG\u001b[0m\u001b[0;34m,\u001b[0m \u001b[0mbatch_size\u001b[0m\u001b[0;34m,\u001b[0m \u001b[0mschema\u001b[0m\u001b[0;34m=\u001b[0m\u001b[0mschema\u001b[0m\u001b[0;34m)\u001b[0m\u001b[0;34m\u001b[0m\u001b[0;34m\u001b[0m\u001b[0m\n\u001b[0m\u001b[1;32m    489\u001b[0m \u001b[0;34m\u001b[0m\u001b[0m\n\u001b[1;32m    490\u001b[0m         \u001b[0mself\u001b[0m\u001b[0;34m.\u001b[0m\u001b[0mnum_samples\u001b[0m \u001b[0;34m=\u001b[0m \u001b[0mnum_samples\u001b[0m\u001b[0;34m\u001b[0m\u001b[0;34m\u001b[0m\u001b[0m\n",
      "\u001b[0;32m~/anaconda3/envs/clustergcn/lib/python3.6/site-packages/stellargraph/mapper/sampled_node_generators.py\u001b[0m in \u001b[0;36m__init__\u001b[0;34m(self, G, batch_size, schema, use_node_features)\u001b[0m\n\u001b[1;32m     94\u001b[0m         \u001b[0;31m# Check if the graph has features\u001b[0m\u001b[0;34m\u001b[0m\u001b[0;34m\u001b[0m\u001b[0;34m\u001b[0m\u001b[0m\n\u001b[1;32m     95\u001b[0m         \u001b[0;32mif\u001b[0m \u001b[0muse_node_features\u001b[0m\u001b[0;34m:\u001b[0m\u001b[0;34m\u001b[0m\u001b[0;34m\u001b[0m\u001b[0m\n\u001b[0;32m---> 96\u001b[0;31m             \u001b[0mG\u001b[0m\u001b[0;34m.\u001b[0m\u001b[0mcheck_graph_for_ml\u001b[0m\u001b[0;34m(\u001b[0m\u001b[0;34m)\u001b[0m\u001b[0;34m\u001b[0m\u001b[0;34m\u001b[0m\u001b[0m\n\u001b[0m\u001b[1;32m     97\u001b[0m \u001b[0;34m\u001b[0m\u001b[0m\n\u001b[1;32m     98\u001b[0m     \u001b[0;34m@\u001b[0m\u001b[0mabc\u001b[0m\u001b[0;34m.\u001b[0m\u001b[0mabstractmethod\u001b[0m\u001b[0;34m\u001b[0m\u001b[0;34m\u001b[0m\u001b[0m\n",
      "\u001b[0;32m~/anaconda3/envs/clustergcn/lib/python3.6/site-packages/stellargraph/core/graph.py\u001b[0m in \u001b[0;36mcheck_graph_for_ml\u001b[0;34m(self, features, expensive_check)\u001b[0m\n\u001b[1;32m   1193\u001b[0m         \u001b[0;32mif\u001b[0m \u001b[0mall\u001b[0m\u001b[0;34m(\u001b[0m\u001b[0msize\u001b[0m \u001b[0;34m==\u001b[0m \u001b[0;36m0\u001b[0m \u001b[0;32mfor\u001b[0m \u001b[0m_\u001b[0m\u001b[0;34m,\u001b[0m \u001b[0msize\u001b[0m \u001b[0;32min\u001b[0m \u001b[0mself\u001b[0m\u001b[0;34m.\u001b[0m\u001b[0mnode_feature_sizes\u001b[0m\u001b[0;34m(\u001b[0m\u001b[0;34m)\u001b[0m\u001b[0;34m.\u001b[0m\u001b[0mitems\u001b[0m\u001b[0;34m(\u001b[0m\u001b[0;34m)\u001b[0m\u001b[0;34m)\u001b[0m\u001b[0;34m:\u001b[0m\u001b[0;34m\u001b[0m\u001b[0;34m\u001b[0m\u001b[0m\n\u001b[1;32m   1194\u001b[0m             raise RuntimeError(\n\u001b[0;32m-> 1195\u001b[0;31m                 \u001b[0;34m\"This StellarGraph has no numeric feature attributes for nodes\"\u001b[0m\u001b[0;34m\u001b[0m\u001b[0;34m\u001b[0m\u001b[0m\n\u001b[0m\u001b[1;32m   1196\u001b[0m                 \u001b[0;34m\"Node features are required for machine learning\"\u001b[0m\u001b[0;34m\u001b[0m\u001b[0;34m\u001b[0m\u001b[0m\n\u001b[1;32m   1197\u001b[0m             )\n",
      "\u001b[0;31mRuntimeError\u001b[0m: This StellarGraph has no numeric feature attributes for nodesNode features are required for machine learning"
     ]
    }
   ],
   "source": [
    "hinsage_generator = HinSAGENodeGenerator(\n",
    "    stellargraph, batch_size=1000, num_samples=[5]\n",
    ")\n",
    "\n",
    "hinsage_model = HinSAGE(\n",
    "    layer_sizes=[128], activations=[\"relu\"], generator=hinsage_generator\n",
    ")\n",
    "hinsage_acc = run_deep_graph_infomax(hinsage_model, hinsage_generator, epochs=epochs)\n",
    "\n",
    "print(f\"Test classification accuracy: {hinsage_acc}\")"
   ]
  },
  {
   "cell_type": "code",
   "execution_count": null,
   "id": "90ac66f5-4b32-4810-b63c-69d438f3ce2e",
   "metadata": {},
   "outputs": [],
   "source": []
  }
 ],
 "metadata": {
  "kernelspec": {
   "display_name": "clustergcn",
   "language": "python",
   "name": "clustergcn"
  },
  "language_info": {
   "codemirror_mode": {
    "name": "ipython",
    "version": 3
   },
   "file_extension": ".py",
   "mimetype": "text/x-python",
   "name": "python",
   "nbconvert_exporter": "python",
   "pygments_lexer": "ipython3",
   "version": "3.6.13"
  }
 },
 "nbformat": 4,
 "nbformat_minor": 5
}
