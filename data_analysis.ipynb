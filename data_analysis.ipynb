{
 "cells": [
  {
   "cell_type": "code",
   "execution_count": null,
   "id": "2130e524-d62e-4ad8-84c1-d9372ae5029a",
   "metadata": {},
   "outputs": [],
   "source": [
    "import pandas as pd\n",
    "import json\n",
    "import csv\n",
    "from neo4j import GraphDatabase"
   ]
  },
  {
   "cell_type": "markdown",
   "id": "82ce04b3-a8d5-454a-9fb8-1d1a8ed0fa60",
   "metadata": {},
   "source": [
    "# Query from reactome using neo4j"
   ]
  },
  {
   "cell_type": "code",
   "execution_count": null,
   "id": "0705be2d-8952-4c7e-8db1-385ddf17d9f6",
   "metadata": {},
   "outputs": [],
   "source": [
    "\n",
    "class Neo4jConnection:\n",
    "    def __init__(self, uri, user, password):\n",
    "        self.__uri = uri\n",
    "        self.__user = user\n",
    "        self.__password = password\n",
    "        self.__driver = None\n",
    "        try:\n",
    "            self.__driver = GraphDatabase.driver(self.__uri, auth=(self.__user, self.__password))\n",
    "        except Exception as e:\n",
    "            print(\"Failed to create the driver:\", e)\n",
    "        \n",
    "    def close(self):\n",
    "        if self.__driver is not None:\n",
    "            self.__driver.close()\n",
    "        \n",
    "    def query(self, query, parameters=None, db=None):\n",
    "        with self.__driver.session(database=db) as session:\n",
    "            result = session.run(query, parameters)\n",
    "            return [record for record in result]\n"
   ]
  },
  {
   "cell_type": "code",
   "execution_count": null,
   "id": "0a31e905-ecfb-4f57-b64f-46104658bd6e",
   "metadata": {
    "scrolled": true
   },
   "outputs": [],
   "source": [
    "\n",
    "def flatten_node_data(records):\n",
    "    \"\"\"Extracts and flattens data from Neo4j records into a list of dictionaries.\"\"\"\n",
    "    data = []\n",
    "    for record in records:\n",
    "        node = record['n']\n",
    "        flat_data = dict(node)\n",
    "        flat_data['element_id'] = node.id\n",
    "        data.append(flat_data)\n",
    "    return data\n",
    "\n",
    "def save_to_json(records, json_file_path):\n",
    "    \"\"\"Converts flattened Neo4j query results to a JSON file.\"\"\"\n",
    "    flattened_data = flatten_node_data(records)\n",
    "    with open(json_file_path, 'w') as f:\n",
    "        json.dump(flattened_data, f, indent=4)\n",
    "\n",
    "\n",
    "def save_to_csv(records, csv_file_path=None):\n",
    "    \"\"\"\n",
    "    Converts Neo4j query results to a pandas DataFrame and optionally saves to a CSV file.\n",
    "    \n",
    "    :param records: List of Neo4j Record objects.\n",
    "    :param csv_file_path: Optional path to save the CSV file. If None, no CSV will be saved.\n",
    "    :return: pandas DataFrame containing the extracted data.\n",
    "    \"\"\"\n",
    "    data = flatten_node_data(records)\n",
    "    df = pd.DataFrame(data)\n",
    "    \n",
    "    if csv_file_path:\n",
    "        df.to_csv(csv_file_path, index=False)\n",
    "    \n",
    "    return df\n",
    "\n",
    "def flatten_json(y):\n",
    "    out = {}\n",
    "\n",
    "    def flatten(x, name=''):\n",
    "        if type(x) is dict:\n",
    "            for a in x:\n",
    "                flatten(x[a], name + a + '_')\n",
    "        elif type(x) is list:\n",
    "            i = 0\n",
    "            for a in x:\n",
    "                flatten(a, name + str(i) + '_')\n",
    "                i += 1\n",
    "        else:\n",
    "            out[name[:-1]] = x\n",
    "\n",
    "    flatten(y)\n",
    "    return out\n",
    "    \n",
    "def json_to_csv(json_file_path, csv_file_path):\n",
    "    # Load JSON data\n",
    "    with open(json_file_path) as json_file:\n",
    "        data = json.load(json_file)\n",
    "\n",
    "    # Flatten the JSON data\n",
    "    flattened_data = [flatten_json(item) for item in data]\n",
    "\n",
    "    # Open a CSV file for writing\n",
    "    with open(csv_file_path, mode='w', newline='') as csv_file:\n",
    "        # Create a CSV writer object\n",
    "        writer = csv.writer(csv_file)\n",
    "\n",
    "        # Write the header if flattened_data is not empty\n",
    "        if flattened_data:\n",
    "            header = flattened_data[0].keys()\n",
    "            writer.writerow(header)\n",
    "\n",
    "            # Write the data rows\n",
    "            for item in flattened_data:\n",
    "                writer.writerow(item.values())\n"
   ]
  },
  {
   "cell_type": "code",
   "execution_count": null,
   "id": "045c717b-f973-4d34-8d63-0b3bd68c15f3",
   "metadata": {},
   "outputs": [],
   "source": [
    "uri = \"bolt://localhost:7687\"\n",
    "user = \"neo4j\"\n",
    "password = \"neo4j\"\n",
    "query = \"MATCH (n) WHERE n.speciesName = 'Mus musculus' RETURN n\"\n",
    "\n",
    "\n",
    "# Establish connection\n",
    "conn = Neo4jConnection(uri, user, password)\n",
    "results = conn.query(query)\n",
    "\n",
    "save_to_csv(results,'mice.csv')\n",
    "\n",
    "# Close the connection\n",
    "conn.close()"
   ]
  },
  {
   "cell_type": "code",
   "execution_count": null,
   "id": "068747c3-7277-4479-9e28-c79efbb87c28",
   "metadata": {},
   "outputs": [],
   "source": [
    "mice_df = pd.read_csv('mice.csv')"
   ]
  },
  {
   "cell_type": "code",
   "execution_count": null,
   "id": "412e7d33-afbf-4b46-97d4-977d2408f687",
   "metadata": {},
   "outputs": [],
   "source": [
    "mice_df"
   ]
  },
  {
   "cell_type": "code",
   "execution_count": null,
   "id": "91a8e109-cab2-472e-a4d4-94e12dc3a351",
   "metadata": {},
   "outputs": [],
   "source": []
  }
 ],
 "metadata": {
  "kernelspec": {
   "display_name": "Python 3 (ipykernel)",
   "language": "python",
   "name": "python3"
  },
  "language_info": {
   "codemirror_mode": {
    "name": "ipython",
    "version": 3
   },
   "file_extension": ".py",
   "mimetype": "text/x-python",
   "name": "python",
   "nbconvert_exporter": "python",
   "pygments_lexer": "ipython3",
   "version": "3.10.12"
  }
 },
 "nbformat": 4,
 "nbformat_minor": 5
}
